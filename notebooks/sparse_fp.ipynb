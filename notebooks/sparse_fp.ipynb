{
 "cells": [
  {
   "cell_type": "markdown",
   "id": "03e3eb27",
   "metadata": {},
   "source": [
    "# Sparse fingerprints with rdkit and scipy.sparse\n",
    "\n"
   ]
  },
  {
   "cell_type": "code",
   "execution_count": 1,
   "id": "89a8d54a",
   "metadata": {},
   "outputs": [],
   "source": [
    "from rdkit import Chem\n",
    "from rdkit.Chem import rdMolDescriptors\n",
    "\n",
    "import tqdm\n",
    "\n",
    "import numpy as np\n",
    "from scipy import sparse\n",
    "import pandas as pd\n",
    "\n",
    "import time\n",
    "\n",
    "\n",
    "#autocomplete wasn't working for some reason. This fixes it. \n",
    "%config Completer.use_jedi = False"
   ]
  },
  {
   "cell_type": "code",
   "execution_count": 2,
   "id": "8d51ac79",
   "metadata": {},
   "outputs": [
    {
     "data": {
      "text/html": [
       "<div>\n",
       "<style scoped>\n",
       "    .dataframe tbody tr th:only-of-type {\n",
       "        vertical-align: middle;\n",
       "    }\n",
       "\n",
       "    .dataframe tbody tr th {\n",
       "        vertical-align: top;\n",
       "    }\n",
       "\n",
       "    .dataframe thead th {\n",
       "        text-align: right;\n",
       "    }\n",
       "</style>\n",
       "<table border=\"1\" class=\"dataframe\">\n",
       "  <thead>\n",
       "    <tr style=\"text-align: right;\">\n",
       "      <th></th>\n",
       "      <th>0</th>\n",
       "    </tr>\n",
       "  </thead>\n",
       "  <tbody>\n",
       "    <tr>\n",
       "      <th>0</th>\n",
       "      <td>CC[C@@H]1CN[C@H](C(=O)N2CC(N)CC3(CCC3)C2)C1</td>\n",
       "    </tr>\n",
       "    <tr>\n",
       "      <th>1</th>\n",
       "      <td>CC1=C(C(=O)N2CC([C@H](C)NC(=O)C3(CO)CCCC3)C2)C...</td>\n",
       "    </tr>\n",
       "    <tr>\n",
       "      <th>2</th>\n",
       "      <td>CC1CCC2(CC2)N(C(=O)C2=CC=C(OC3CC3)C=C2)C1</td>\n",
       "    </tr>\n",
       "    <tr>\n",
       "      <th>3</th>\n",
       "      <td>CC(=O)CCCC(=O)NC1CN(C(=O)C2(C3CCC3)CC2)CC12CCC2</td>\n",
       "    </tr>\n",
       "    <tr>\n",
       "      <th>4</th>\n",
       "      <td>CCCC(C)(C)C(=O)N[C@H]1[C@@H]2CN(C(=O)C(CC(C)C)...</td>\n",
       "    </tr>\n",
       "  </tbody>\n",
       "</table>\n",
       "</div>"
      ],
      "text/plain": [
       "                                                   0\n",
       "0        CC[C@@H]1CN[C@H](C(=O)N2CC(N)CC3(CCC3)C2)C1\n",
       "1  CC1=C(C(=O)N2CC([C@H](C)NC(=O)C3(CO)CCCC3)C2)C...\n",
       "2          CC1CCC2(CC2)N(C(=O)C2=CC=C(OC3CC3)C=C2)C1\n",
       "3    CC(=O)CCCC(=O)NC1CN(C(=O)C2(C3CCC3)CC2)CC12CCC2\n",
       "4  CCCC(C)(C)C(=O)N[C@H]1[C@@H]2CN(C(=O)C(CC(C)C)..."
      ]
     },
     "execution_count": 2,
     "metadata": {},
     "output_type": "execute_result"
    }
   ],
   "source": [
    "# random 10k smiles from the enamine lead-like diversity set\n",
    "# dont really pandas but ok.\n",
    "smi_df = pd.read_csv('enamine_leadlike_10k.smi', sep='\\t', header=None)\n",
    "smi_df.head()"
   ]
  },
  {
   "cell_type": "code",
   "execution_count": 3,
   "id": "e22c6c34",
   "metadata": {},
   "outputs": [],
   "source": [
    "def make_fingerprints(smiles):\n",
    "    \"\"\"Parse list of smiles into fingerprints, stored as sparse matrix.\n",
    "    Currently using size 65536 - this is usually way too large, \n",
    "    but it leaves room to move. Plus, there's no loss in \n",
    "    memory from using large sizes due to the sparsity. \n",
    "    \n",
    "    There is a folding function to get back to common usage sizes. \n",
    "    \"\"\"\n",
    "\n",
    "    #see FPSim2 for these parameters\n",
    "    fingerprint_function = rdMolDescriptors.GetMorganFingerprintAsBitVect\n",
    "    pars = { \"radius\": 2,\n",
    "                     \"nBits\": 65536,\n",
    "                     \"invariants\": [],\n",
    "                     \"fromAtoms\": [],\n",
    "                     \"useChirality\": False,\n",
    "                     \"useBondTypes\": True,\n",
    "                     \"useFeatures\": False,\n",
    "            }\n",
    "\n",
    "    #store bit indices in these:\n",
    "    row_idx = list()\n",
    "    col_idx = list()\n",
    "    \n",
    "    count = 0\n",
    "    \n",
    "    #iterate through smiles, \n",
    "    for smi in tqdm.tqdm_notebook(smiles, smoothing=0):\n",
    "        try:\n",
    "            mol = Chem.MolFromSmiles(smi)\n",
    "            fp = fingerprint_function(mol, **pars)\n",
    "        \n",
    "            #if the smiles failed to parse, it would have given an exception by now.\n",
    "            onbits = list(fp.GetOnBits())\n",
    "            #these bits all have the same row:\n",
    "            row_idx += [count]*len(onbits)\n",
    "            #and the column indices of those bits:\n",
    "            col_idx+=onbits\n",
    "            #update the count\n",
    "            count+=1\n",
    "        except KeyboardInterrupt:\n",
    "            raise\n",
    "        except:\n",
    "            print('smiles failed')\n",
    "\n",
    "    \n",
    "    #generate a sparse matrix out of the row,col indices:\n",
    "    unfolded_size = 65536\n",
    "    \n",
    "    fingerprint_matrix = sparse.coo_matrix((np.ones(len(row_idx)).astype(bool), (row_idx, col_idx)), \n",
    "                      shape=(max(row_idx)+1, unfolded_size))\n",
    "    \n",
    "    #convert to csr matrix, smaller and usually faster too:\n",
    "    fingerprint_matrix =  sparse.csr_matrix(fingerprint_matrix)\n",
    "\n",
    "    return fingerprint_matrix"
   ]
  },
  {
   "cell_type": "code",
   "execution_count": 4,
   "id": "534195c7",
   "metadata": {},
   "outputs": [
    {
     "name": "stderr",
     "output_type": "stream",
     "text": [
      "/Users/ljmartin/miniconda3/envs/p4env/lib/python3.7/site-packages/ipykernel_launcher.py:28: TqdmDeprecationWarning: This function will be removed in tqdm==5.0.0\n",
      "Please use `tqdm.notebook.tqdm` instead of `tqdm.tqdm_notebook`\n"
     ]
    },
    {
     "data": {
      "application/vnd.jupyter.widget-view+json": {
       "model_id": "f5df4142c1d1476fa68d292a91848147",
       "version_major": 2,
       "version_minor": 0
      },
      "text/plain": [
       "  0%|          | 0/10000 [00:00<?, ?it/s]"
      ]
     },
     "metadata": {},
     "output_type": "display_data"
    }
   ],
   "source": [
    "fp_mat = make_fingerprints(smi_df[0])"
   ]
  },
  {
   "cell_type": "code",
   "execution_count": 5,
   "id": "a9dcbef4",
   "metadata": {},
   "outputs": [],
   "source": [
    "##If you wish to fold it down to a better size for sklearn or something, use this.\n",
    "\n",
    "def fold_fingerprints(feature_matrix):\n",
    "    \"\"\"Folds a fingerprint matrix by bitwise OR.\n",
    "    (scipy will perform the bitwise OR because the `data` is bool,\n",
    "    and it will not cast it to int when two Trues are added.\"\"\"\n",
    "\n",
    "    ncols = feature_matrix.shape[1]\n",
    "    return feature_matrix[:,:ncols//2] + feature_matrix[:,ncols//2:]\n",
    "\n",
    "def fold_to_size(feature_matrix, size):\n",
    "    \"\"\"Performs the `fold` operation multiple times to reduce fp \n",
    "    length to the desired size.\"\"\"\n",
    "\n",
    "    while feature_matrix.shape[1]>size:\n",
    "        feature_matrix = fold_fingerprints(feature_matrix)\n",
    "\n",
    "    return feature_matrix"
   ]
  },
  {
   "cell_type": "code",
   "execution_count": 6,
   "id": "93bc57db",
   "metadata": {},
   "outputs": [
    {
     "data": {
      "text/plain": [
       "<10000x2048 sparse matrix of type '<class 'numpy.bool_'>'\n",
       "\twith 444039 stored elements in Compressed Sparse Row format>"
      ]
     },
     "execution_count": 6,
     "metadata": {},
     "output_type": "execute_result"
    }
   ],
   "source": [
    "# for example:\n",
    "fold_to_size(fp_mat, 2<<10) #outputs a matrix with dimensionality 2048"
   ]
  },
  {
   "cell_type": "markdown",
   "id": "5769d8eb",
   "metadata": {},
   "source": [
    "# Verify the sparse matrix is the right shape, and is really just made up of three numpy arrays"
   ]
  },
  {
   "cell_type": "code",
   "execution_count": 7,
   "id": "c9fa8829",
   "metadata": {},
   "outputs": [
    {
     "name": "stdout",
     "output_type": "stream",
     "text": [
      "Fingerprint matrix shape: (10000, 65536)\n",
      "\n",
      "\n",
      "Indices: [ 1701  5258  6647 ... 64138 64505 65272]\n",
      "Indices shape: (451259,)\n",
      "\n",
      "\n",
      "Index pointer: [     0     43     89 ... 451165 451212 451259]\n",
      "Index pointer shape: (10001,)\n",
      "\n",
      "\n",
      "Actual data (these are all just \"ON\" bits!): [ True  True  True ...  True  True  True]\n",
      "Actual data shape: (451259,)\n"
     ]
    }
   ],
   "source": [
    "#This\n",
    "print('Fingerprint matrix shape:', fp_mat.shape)\n",
    "print('\\n')\n",
    "print('Indices:', fp_mat.indices)\n",
    "print('Indices shape:', fp_mat.indices.shape)\n",
    "print('\\n')\n",
    "print('Index pointer:', fp_mat.indptr)\n",
    "print('Index pointer shape:', fp_mat.indptr.shape)\n",
    "print('\\n')\n",
    "print('Actual data (these are all just \"ON\" bits!):', fp_mat.data)\n",
    "print('Actual data shape:', fp_mat.data.shape)"
   ]
  },
  {
   "cell_type": "markdown",
   "id": "b2aa37f9",
   "metadata": {},
   "source": [
    "# Calculate Jaccard or Dice metrics\n",
    "\n",
    "Jaccard or Dice distances (as with Tanimoto) are simply [set operations](https://en.wikipedia.org/wiki/Set_(mathematics)#Basic_operations) - i.e. intersections, unions, cardinalities.\n",
    "\n",
    "Sparse matrices have a huge advantage calculating these properties. Since we know any absent bit is by definition not included in the set of bits for a molecule, we can ignore any calculations involving that absent bit. Some linear algebra calculations using sparse matrices are faster for exactly that reason - they ignore the zero values. \n",
    "\n",
    "For instance, the pairwise intersection matrix between two fingerprint matrices is simply the dot product. From this matrix, Dice or Jaccard can be calculated fairly straightforwardly.\n",
    "\n",
    "I get about 5 seconds for a 10k by 10k Dice distance matrix. That's 100 million fingerprints, so **`50`** nanoseconds per similarity. \n",
    "\n",
    "\n",
    "As a rough comparison, chemfp [gets](https://chemfp.com/performance/#k10_performance) 1 million Tanimoto similarities done in 16.0 milliseconds for size 2,048. That's an impressive **`16 ns`** per similarity. But remember chemfp similarities scale linearly in fingerprint size, and the sparse approach is using size 65528, in which case chemfp might be expected to perform 32X slower, or **`512`** ns. "
   ]
  },
  {
   "cell_type": "code",
   "execution_count": 8,
   "id": "376d727f",
   "metadata": {},
   "outputs": [],
   "source": [
    "def fast_dice(X, Y=None):\n",
    "    if isinstance(X, np.ndarray):\n",
    "        X = sparse.csr_matrix(X).astype(bool).astype(int)\n",
    "    if Y is None:\n",
    "        Y = X\n",
    "    else:\n",
    "        if isinstance(Y, np.ndarray):\n",
    "            Y = sparse.csr_matrix(Y).astype(bool).astype(int)\n",
    "            \n",
    "    intersect = X.dot(Y.T)\n",
    "    #cardinality = X.sum(1).A\n",
    "    cardinality_X = X.getnnz(1)[:,None] #slightly faster on large matrices - 13s vs 16s for 12k x 12k\n",
    "    cardinality_Y = Y.getnnz(1) #slightly faster on large matrices - 13s vs 16s for 12k x 12k\n",
    "    return (1-(2*intersect) / (cardinality_X+cardinality_Y.T)).A\n",
    "\n",
    "\n",
    "def fast_jaccard(X, Y=None):\n",
    "    \"\"\"credit: https://stackoverflow.com/questions/32805916/compute-jaccard-distances-on-sparse-matrix\"\"\"\n",
    "    if isinstance(X, np.ndarray):\n",
    "        X = sparse.csr_matrix(X)\n",
    "    if Y is None:\n",
    "        Y = X\n",
    "    else:\n",
    "        if isinstance(Y, np.ndarray):\n",
    "            Y = sparse.csr_matrix(Y)\n",
    "    assert X.shape[1] == Y.shape[1]\n",
    "\n",
    "    X = X.astype(bool).astype(int)\n",
    "    Y = Y.astype(bool).astype(int)\n",
    "    intersect = X.dot(Y.T)\n",
    "    x_sum = X.sum(axis=1).A1\n",
    "    y_sum = Y.sum(axis=1).A1\n",
    "    xx, yy = np.meshgrid(x_sum, y_sum)\n",
    "    union = ((xx + yy).T - intersect)\n",
    "    return (1 - intersect / union).A"
   ]
  },
  {
   "cell_type": "code",
   "execution_count": 9,
   "id": "d5e6ad8a",
   "metadata": {},
   "outputs": [
    {
     "name": "stdout",
     "output_type": "stream",
     "text": [
      "Total time in seconds: 5.027843952178955\n"
     ]
    }
   ],
   "source": [
    "\n",
    "\n",
    "\n",
    "start = time.time()\n",
    "fast_dice(fp_mat)\n",
    "end = time.time()\n",
    "\n",
    "tot_time = end-start\n",
    "print('Total time in seconds:', end-start)"
   ]
  },
  {
   "cell_type": "code",
   "execution_count": 10,
   "id": "3c79c4e0",
   "metadata": {},
   "outputs": [
    {
     "name": "stdout",
     "output_type": "stream",
     "text": [
      "Nanoseconds per similarity: 50.27843952178955\n"
     ]
    }
   ],
   "source": [
    "print('Nanoseconds per similarity:', (tot_time / (10_000**2)) / 1e-9)"
   ]
  },
  {
   "cell_type": "markdown",
   "id": "5ff2f814",
   "metadata": {},
   "source": [
    "# Memory usage\n",
    "\n",
    "Sparse matrices are small - that's their whole thing. There's a way to make this smaller, but for now I estimate most people could hold about 10 million to 100 million smiles in RAM."
   ]
  },
  {
   "cell_type": "code",
   "execution_count": 11,
   "id": "270c9d3b",
   "metadata": {},
   "outputs": [],
   "source": [
    "def format_bytes(size):\n",
    "    # 2**10 = 1024\n",
    "    power = 2**10\n",
    "    n = 0\n",
    "    power_labels = {0 : '', 1: 'kilo', 2: 'mega', 3: 'giga', 4: 'tera'}\n",
    "    while size > power:\n",
    "        size /= power\n",
    "        n += 1\n",
    "    return size, power_labels[n]+'bytes'"
   ]
  },
  {
   "cell_type": "code",
   "execution_count": 12,
   "id": "bcf8ac5c",
   "metadata": {},
   "outputs": [
    {
     "name": "stdout",
     "output_type": "stream",
     "text": [
      "10,000 smiles: (2.1899213790893555, 'megabytes')\n",
      "1 million smiles: (2.1385950967669487, 'gigabytes')\n"
     ]
    }
   ],
   "source": [
    "b = fp_mat.indptr.nbytes + fp_mat.data.nbytes + fp_mat.indices.nbytes\n",
    "print('10,000 smiles:', format_bytes(b))\n",
    "print('1 million smiles:', format_bytes(b*1000))\n"
   ]
  },
  {
   "cell_type": "code",
   "execution_count": null,
   "id": "d22914e3",
   "metadata": {},
   "outputs": [],
   "source": []
  }
 ],
 "metadata": {
  "kernelspec": {
   "display_name": "Python 3",
   "language": "python",
   "name": "python3"
  },
  "language_info": {
   "codemirror_mode": {
    "name": "ipython",
    "version": 3
   },
   "file_extension": ".py",
   "mimetype": "text/x-python",
   "name": "python",
   "nbconvert_exporter": "python",
   "pygments_lexer": "ipython3",
   "version": "3.7.10"
  }
 },
 "nbformat": 4,
 "nbformat_minor": 5
}
