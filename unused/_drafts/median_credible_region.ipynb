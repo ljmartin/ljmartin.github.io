{
 "cells": [
  {
   "cell_type": "markdown",
   "metadata": {},
   "source": [
    "# Calculating the credible region of the median with pymc3\n",
    "\n",
    "Recently I had the need to compare several recommendation system algorithms by scoring how well they could rank a list of hold-out data. All performed pretty well with most of the true positives being ranked in the top ten, however the distributions of rankings were highly skewed with long tails consisting of a few poorly-ranked positives.\n",
    "\n",
    "Observe:\n",
    "\n",
    "![title](ranks_dist.png)\n"
   ]
  },
  {
   "cell_type": "markdown",
   "metadata": {},
   "source": [
    "In this project, we care more about how many positives are ranked in the top ~20, and outside of this it doesn't really matter _how_ bad the ranking is, since with limited budget we are unlikely to look at predictions outside the top 20. So for scoring the algorithms, the `mean` ranking is less useful since it is highly skewed by long tails, and any change within the long tail can change the mean a lot without affecting the top 10-20 ranks at all. The `median` more accurately reflects the ranking of the majority of the ligands. \n",
    "\n"
   ]
  },
  {
   "cell_type": "code",
   "execution_count": null,
   "metadata": {},
   "outputs": [],
   "source": [
    "from scipy.stats import expon\n",
    "%matplotlib inline\n",
    "import matplotlib.pyplot as plt\n",
    "import numpy as np\n",
    "from seaborn import kdeplot\n",
    "from tqdm import tqdm_notebook"
   ]
  },
  {
   "cell_type": "code",
   "execution_count": null,
   "metadata": {},
   "outputs": [],
   "source": [
    "from scipy.stats import expon\n",
    "\n",
    "ranks = expon(1,30).rvs(2500)\n",
    "\n",
    "plt.hist(ranks, alpha=0.3, bins=100)\n",
    "print(ranks.mean(), np.median(ranks))\n",
    "plt.axvline(np.mean(ranks), label='mean')\n",
    "\n",
    "plt.axvline(np.median(ranks), label='median')"
   ]
  },
  {
   "cell_type": "code",
   "execution_count": null,
   "metadata": {
    "scrolled": true
   },
   "outputs": [],
   "source": [
    "values = list()\n",
    "for binsize in np.arange(50,5000,50):\n",
    "    x = np.linspace(0,40,binsize)\n",
    "    bap = np.abs(x-ranks[:,np.newaxis])**2\n",
    "    bapsum = np.sum(bap,axis=0)\n",
    "\n",
    "    minimum_index = np.argmin(bapsum)\n",
    "    values.append(x[minimum_index])\n",
    "    print(x[minimum_index])"
   ]
  },
  {
   "cell_type": "code",
   "execution_count": null,
   "metadata": {
    "scrolled": true
   },
   "outputs": [],
   "source": [
    "values = list()\n",
    "for binsize in np.arange(50,5000,50):\n",
    "    x = np.linspace(0,40,binsize)\n",
    "    bap = np.abs(x-ranks[:,np.newaxis])\n",
    "    bapsum = np.sum(bap,axis=0)\n",
    "\n",
    "    minimum_index = np.argmin(bapsum)\n",
    "    values.append(x[minimum_index])\n",
    "    print(x[minimum_index])\n",
    "    \n",
    "plt.plot(values)\n",
    "plt.axhline(np.median(ranks), c='k')"
   ]
  },
  {
   "cell_type": "code",
   "execution_count": null,
   "metadata": {},
   "outputs": [],
   "source": [
    "from scipy.optimize import minimize\n",
    "\n",
    "history = []\n",
    "def callback(x):\n",
    "    history.append(x)\n",
    "    #fobj = l1_loss(x)\n",
    "    #history.append(fobj)\n",
    "\n",
    "\n",
    "\n"
   ]
  },
  {
   "cell_type": "code",
   "execution_count": null,
   "metadata": {
    "scrolled": true
   },
   "outputs": [],
   "source": [
    "from scipy.optimize import fmin_bfgs\n",
    "\n",
    "def l1_loss(x, info):\n",
    "    res = (np.abs(x-ranks[:,np.newaxis])**1).sum()\n",
    "    \n",
    "    if info['Nfeval']%1==0:\n",
    "        print(info['Nfeval'], x)\n",
    "    info['Nfeval']+=1\n",
    "    return res\n",
    "\n",
    "\n",
    "fmin_bfgs(l1_loss, \n",
    "             x0=[0], \n",
    "             callback=callback,\n",
    "            args=({'Nfeval':0},),\n",
    "          full_output=True\n",
    "            )"
   ]
  },
  {
   "cell_type": "code",
   "execution_count": null,
   "metadata": {},
   "outputs": [],
   "source": [
    "#import autograd\n",
    "import autograd.numpy as np"
   ]
  },
  {
   "cell_type": "code",
   "execution_count": null,
   "metadata": {
    "scrolled": true
   },
   "outputs": [],
   "source": [
    "l1_loss = lambda x : np.abs(x-ranks[:,np.newaxis]).sum()\n",
    "learned_median = minimize(l1_loss, x0=0)\n",
    "print(learned_median['x'][0], np.median(ranks))"
   ]
  },
  {
   "cell_type": "code",
   "execution_count": null,
   "metadata": {},
   "outputs": [],
   "source": [
    "np.isclose(learned_median['x'][0], np.median(ranks), rtol=1e-3)"
   ]
  },
  {
   "cell_type": "code",
   "execution_count": null,
   "metadata": {
    "scrolled": true
   },
   "outputs": [],
   "source": [
    "import autograd.numpy as np  # Thinly-wrapped numpy\n",
    "from autograd import grad\n",
    "\n",
    "\n",
    "def l1_loss(x):\n",
    "    return np.abs(x-ranks[:,np.newaxis]).sum()\n",
    "\n",
    "def l2_loss(x):\n",
    "    return (np.abs(x-ranks[:,np.newaxis])**2).sum()\n",
    "\n",
    "\n",
    "l1_parameter = 0.0\n",
    "l1_progress = list()\n",
    "learning_rate = 1e-4\n",
    "\n",
    "for _ in tqdm_notebook(range(500)):\n",
    "    g = grad(l1_loss)(l1_parameter)\n",
    "    l1_parameter = l1_parameter + -1*g*learning_rate\n",
    "    l1_progress.append(l1_parameter)\n",
    "    \n",
    "l2_parameter = 0.0\n",
    "l2_progress = list()\n",
    "learning_rate = 1e-5\n",
    "#\n",
    "for _ in tqdm_notebook(range(500)):\n",
    "    g = grad(l2_loss)(l2_parameter)\n",
    "    l2_parameter = l2_parameter + -1*g*learning_rate\n",
    "    l2_progress.append(l2_parameter)"
   ]
  },
  {
   "cell_type": "code",
   "execution_count": null,
   "metadata": {},
   "outputs": [],
   "source": [
    "plt.plot(l1_progress, label='l1 loss')\n",
    "plt.plot(l2_progress, label='l2 loss')\n",
    "plt.axhline(np.mean(ranks), label='True mean', linestyle='--', c='k')\n",
    "\n",
    "plt.axhline(np.median(ranks), label='True median', c='k', linestyle='--')\n",
    "\n",
    "plt.legend()"
   ]
  },
  {
   "cell_type": "code",
   "execution_count": null,
   "metadata": {},
   "outputs": [],
   "source": [
    "plt.plot(x,bapsum)\n",
    "print(x[minimum_index])\n",
    "plt.axvline(x[minimum_index])\n"
   ]
  },
  {
   "cell_type": "code",
   "execution_count": null,
   "metadata": {},
   "outputs": [],
   "source": [
    "import pymc3 as pm\n",
    "\n",
    "with pm.Model() as model:\n",
    "    #prior:\n",
    "    m = pm.Normal('m', mu=5, sigma=6.0)\n",
    "    bee = pm.HalfNormal('bee', sigma=6.0)\n",
    "    #likelihood:\n",
    "    y = pm.Laplace('y', mu=m, b=bee,observed=ranks)"
   ]
  },
  {
   "cell_type": "code",
   "execution_count": null,
   "metadata": {},
   "outputs": [],
   "source": [
    "with model:\n",
    "    trace = pm.sample(draws=500, tune=500, chains=2,\n",
    "                      target_accept=0.9)\n"
   ]
  },
  {
   "cell_type": "code",
   "execution_count": null,
   "metadata": {},
   "outputs": [],
   "source": [
    "kdeplot(trace['m'])\n",
    "plt.vlines(pm.stats.hpd(trace['m']),0,0.6)\n",
    "plt.axvline(x[minimum_index])\n",
    "\n",
    "import scikits.bootstrap as boot\n",
    "boot.ci(ranks, np.median, n_samples=1000)\n"
   ]
  },
  {
   "cell_type": "code",
   "execution_count": null,
   "metadata": {},
   "outputs": [],
   "source": []
  },
  {
   "cell_type": "code",
   "execution_count": null,
   "metadata": {},
   "outputs": [],
   "source": []
  },
  {
   "cell_type": "code",
   "execution_count": null,
   "metadata": {},
   "outputs": [],
   "source": [
    "from scipy.stats import betaprime\n",
    "\n",
    "\n",
    "ranks = betaprime(a=100, b=3, loc=0.0, scale=10.0).rvs(2500)\n",
    "\n",
    "plt.hist(ranks, alpha=0.3, bins=100)\n",
    "print(ranks.mean(), np.median(ranks))\n",
    "plt.axvline(np.mean(ranks), label='mean')\n",
    "\n",
    "plt.axvline(np.median(ranks), label='median')"
   ]
  },
  {
   "cell_type": "code",
   "execution_count": null,
   "metadata": {},
   "outputs": [],
   "source": [
    "\n",
    "from scipy.stats import wald\n",
    "\n",
    "\n",
    "ranks = wald(loc=0.0,scale=30).rvs(2500)\n",
    "\n",
    "plt.hist(ranks, alpha=0.3, bins=100)\n",
    "print(ranks.mean(), np.median(ranks))\n",
    "plt.axvline(np.mean(ranks), label='mean')\n",
    "\n",
    "plt.axvline(np.median(ranks), label='median')"
   ]
  },
  {
   "cell_type": "code",
   "execution_count": null,
   "metadata": {},
   "outputs": [],
   "source": []
  }
 ],
 "metadata": {
  "kernelspec": {
   "display_name": "Python 3",
   "language": "python",
   "name": "python3"
  },
  "language_info": {
   "codemirror_mode": {
    "name": "ipython",
    "version": 3
   },
   "file_extension": ".py",
   "mimetype": "text/x-python",
   "name": "python",
   "nbconvert_exporter": "python",
   "pygments_lexer": "ipython3",
   "version": "3.7.6"
  }
 },
 "nbformat": 4,
 "nbformat_minor": 4
}
